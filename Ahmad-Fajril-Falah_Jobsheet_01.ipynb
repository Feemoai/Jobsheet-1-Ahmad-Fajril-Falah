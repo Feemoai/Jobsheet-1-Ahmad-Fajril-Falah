{
  "nbformat": 4,
  "nbformat_minor": 0,
  "metadata": {
    "colab": {
      "provenance": [],
      "authorship_tag": "ABX9TyMWo6E3xprGFr/F/ezju7Lt",
      "include_colab_link": true
    },
    "kernelspec": {
      "name": "python3",
      "display_name": "Python 3"
    },
    "language_info": {
      "name": "python"
    }
  },
  "cells": [
    {
      "cell_type": "markdown",
      "metadata": {
        "id": "view-in-github",
        "colab_type": "text"
      },
      "source": [
        "<a href=\"https://colab.research.google.com/github/Feemoai/Jobsheet-1-Ahmad-Fajril-Falah/blob/main/Ahmad-Fajril-Falah_Jobsheet_01.ipynb\" target=\"_parent\"><img src=\"https://colab.research.google.com/assets/colab-badge.svg\" alt=\"Open In Colab\"/></a>"
      ]
    },
    {
      "cell_type": "markdown",
      "source": [
        "**JOBSHEET 01 : ALGORITMA, PSEUDOCODE, DAN FLOWCHART**\n",
        "\n",
        "\n",
        "Dosen:\n",
        "Ir. Prayitno, S.ST., M.T., Ph.D.\n",
        "\n",
        "Nama Mahasiswa\t: Ahmad Fajril Falah &&\n",
        "NIM Mahasiswa\t: 4.33.25.1.01\n",
        "\n",
        "---\n",
        "\n"
      ],
      "metadata": {
        "id": "HvsppzXeShFa"
      }
    },
    {
      "cell_type": "markdown",
      "source": [
        "Praktikum 01. Menghitung Luas Persegi Panjang"
      ],
      "metadata": {
        "id": "nabgLNsIQIRr"
      }
    },
    {
      "cell_type": "code",
      "source": [
        "print(\"Ahmad Fajril Falah\")\n",
        "print ( \"Menghitung Luas Persegi Panjang\" )\n",
        "p = int(input(\"Masukkan panjang: \"))\n",
        "l = int(input(\"Masukkan lebar: \"))\n",
        "luas = p * l\n",
        "print(\"Luas persegi panjang =\", luas)"
      ],
      "metadata": {
        "colab": {
          "base_uri": "https://localhost:8080/"
        },
        "id": "_i2XavVRQSi_",
        "outputId": "9f2db8dd-45e4-4eaa-ee5b-9f2d55afda50"
      },
      "execution_count": null,
      "outputs": [
        {
          "output_type": "stream",
          "name": "stdout",
          "text": [
            "Ahmad Fajril Falah\n",
            "Menghitung Luas Persegi Panjang\n",
            "Masukkan panjang: 2\n",
            "Masukkan lebar: 4\n",
            "Luas persegi panjang = 8\n"
          ]
        }
      ]
    },
    {
      "cell_type": "markdown",
      "source": [
        "Praktikum 02. Menghitung Luas Segitiga (Rumus Heron)"
      ],
      "metadata": {
        "id": "wgMF5Jp0RZv_"
      }
    },
    {
      "cell_type": "code",
      "source": [
        "import math\n",
        "print(\"Ahmad Fajril Falah\")\n",
        "print ( \"Menghitung Luas Segitiga (Rumus Heron)\" )\n",
        "\n",
        "a = float(input(\"Masukkan sisi a: \"))\n",
        "b = float(input(\"Masukkan sisi b: \"))\n",
        "c = float(input(\"Masukkan sisi c: \"))\n",
        "\n",
        "s = (a + b + c) / 2\n",
        "luas = math.sqrt(s * (s - a) * (s - b) * (s - c))\n",
        "print(\"Luas segitiga =\", luas)"
      ],
      "metadata": {
        "colab": {
          "base_uri": "https://localhost:8080/"
        },
        "id": "w_FUbEYzRc7t",
        "outputId": "7c778ea6-1165-4040-984d-5274f7d57616"
      },
      "execution_count": null,
      "outputs": [
        {
          "output_type": "stream",
          "name": "stdout",
          "text": [
            "Ahmad Fajril Falah\n",
            "Menghitung Luas Segitiga (Rumus Heron)\n",
            "Masukkan sisi a: 7\n",
            "Masukkan sisi b: 7\n",
            "Masukkan sisi c: 7\n",
            "Luas segitiga = 21.21762239271875\n"
          ]
        }
      ]
    },
    {
      "cell_type": "markdown",
      "source": [
        "Praktikum 03. Konversi Suhu Celcius ke Fahrenheit"
      ],
      "metadata": {
        "id": "A0A50Q23S0Ns"
      }
    },
    {
      "cell_type": "code",
      "source": [
        "print(\"Ahmad Fajril Falah\")\n",
        "print(\"Konversi suhu dari Celsius ke Fahrenheit\")\n",
        "c = float(input(\"Enter the Temperature (°C): \"))\n",
        "f = (c * 9/5) + 32\n",
        "print(\"Hasil konversi =\", f, \"°F\")"
      ],
      "metadata": {
        "colab": {
          "base_uri": "https://localhost:8080/"
        },
        "id": "teiOnIhHS1CR",
        "outputId": "c34197e4-3b1c-4510-ef2f-2d485a312c2b"
      },
      "execution_count": null,
      "outputs": [
        {
          "output_type": "stream",
          "name": "stdout",
          "text": [
            "Ahmad Fajril Falah\n",
            "Konversi suhu dari Celsius ke Fahrenheit\n",
            "Enter the Temperature (°C): 0\n",
            "Hasil konversi = 32.0 °F\n"
          ]
        }
      ]
    },
    {
      "cell_type": "markdown",
      "source": [
        "Praktikum 04. Menghitung Umur Berdasarkan Tahun Lahir"
      ],
      "metadata": {
        "id": "NAkZtjVhTm5s"
      }
    },
    {
      "cell_type": "code",
      "source": [
        "print(\"Ahmad Fajril Falah\")\n",
        "print(\"Menghitung Umur Berdasarkan Tahun Lahir\")\n",
        "tahun_lahir = int(input(\"Masukkan tahun lahir: \"))\n",
        "tahun_sekarang = 2025\n",
        "umur = tahun_sekarang - tahun_lahir\n",
        "print(\"Umur anda saat ini =\", umur, \"tahun\")"
      ],
      "metadata": {
        "colab": {
          "base_uri": "https://localhost:8080/"
        },
        "id": "8Kc-KOxaTn3C",
        "outputId": "7eb5e32d-52ae-4a68-8b43-b411b9d7c18e"
      },
      "execution_count": null,
      "outputs": [
        {
          "output_type": "stream",
          "name": "stdout",
          "text": [
            "Ahmad Fajril Falah\n",
            "Menghitung Umur Berdasarkan Tahun Lahir\n",
            "Masukkan tahun lahir: 2006\n",
            "Umur anda saat ini = 19 tahun\n"
          ]
        }
      ]
    },
    {
      "cell_type": "markdown",
      "source": [
        "Praktikum 05. Menghitung Luas Lingkaran"
      ],
      "metadata": {
        "id": "ic5bwlXlT_-F"
      }
    },
    {
      "cell_type": "code",
      "source": [
        "import math\n",
        "print(\"Ahmad Fajril Falah\")\n",
        "print(\"Menghitung Luas Linggkaran\")\n",
        "r = float(input(\"Masukkan jari-jari lingkaran: \"))\n",
        "luas = math.pi * r * r\n",
        "print(\"Luas lingkaran =\", luas)"
      ],
      "metadata": {
        "colab": {
          "base_uri": "https://localhost:8080/"
        },
        "id": "LdSyFOXkT_X3",
        "outputId": "0f8e4eb9-8711-4526-c9bb-4d508346dd1a"
      },
      "execution_count": null,
      "outputs": [
        {
          "output_type": "stream",
          "name": "stdout",
          "text": [
            "Ahmad Fajril Falah\n",
            "Menghitung Luas Linggkaran\n",
            "Masukkan jari-jari lingkaran: 7\n",
            "Luas lingkaran = 153.93804002589985\n"
          ]
        }
      ]
    },
    {
      "cell_type": "markdown",
      "source": [
        "Praktikum 06. Menjumlahkan Tiga Bilangan"
      ],
      "metadata": {
        "id": "-Y06vE8SU_Qt"
      }
    },
    {
      "cell_type": "code",
      "source": [
        "print(\"Ahmad Fajril Falah\")\n",
        "print (\"Menjumlahkan Tiga Bilangan\")\n",
        "a = int(input(\"Masukkan bilangan pertama: \"))\n",
        "b = int(input(\"Masukkan bilangan kedua: \"))\n",
        "c = int(input(\"Masukkan bilangan ketiga: \"))\n",
        "jumlah = a + b + c\n",
        "print(\"Jumlah =\", jumlah)"
      ],
      "metadata": {
        "colab": {
          "base_uri": "https://localhost:8080/"
        },
        "id": "lbIx0-MPWBEt",
        "outputId": "e3e8cb88-7923-4d07-ca82-d87efcb19751"
      },
      "execution_count": null,
      "outputs": [
        {
          "output_type": "stream",
          "name": "stdout",
          "text": [
            "Ahmad Fajril Falah\n",
            "Menjumlahkan Tiga Bilangan\n",
            "Masukkan bilangan pertama: -5\n",
            "Masukkan bilangan kedua: 10\n",
            "Masukkan bilangan ketiga: 2\n",
            "Jumlah = 7\n"
          ]
        }
      ]
    },
    {
      "cell_type": "markdown",
      "source": [
        "Penugasan 3. Menghitung Volume Balok"
      ],
      "metadata": {
        "id": "tryfLeDthG1W"
      }
    },
    {
      "cell_type": "code",
      "source": [
        "print(\"Ahmad Fajril Falah\")\n",
        "print (\"Menghitung Volume Balok\")\n",
        "p = int(input(\"Masukan panjang balok :\"))\n",
        "l = int(input(\"Masukan lebar balok :\"))\n",
        "t = int(input(\"Masukan tinggi balok :\"))\n",
        "volume = p * l * t\n",
        "print(\"Volume balok =\", volume)"
      ],
      "metadata": {
        "colab": {
          "base_uri": "https://localhost:8080/"
        },
        "id": "JhOGmFsAhNkU",
        "outputId": "55382aac-e39b-47d7-c8f8-96f4915b0b6e"
      },
      "execution_count": null,
      "outputs": [
        {
          "output_type": "stream",
          "name": "stdout",
          "text": [
            "Ahmad Fajril Falah\n",
            "Menghitung Volume Balok\n",
            "Masukan panjang balok :10\n",
            "Masukan lebar balok :2\n",
            "Masukan tinggi balok :8\n",
            "Volume balok = 160\n"
          ]
        }
      ]
    },
    {
      "cell_type": "markdown",
      "source": [
        "**⬇⬇ Penugasan Jobsheet 01 ⬇⬇**\n",
        "\n",
        "---\n",
        "\n"
      ],
      "metadata": {
        "id": "AcRWzT8oTs9H"
      }
    },
    {
      "cell_type": "markdown",
      "source": [
        "Penugasan 4. Konversi Waktu (Detik ke Jam:Menit:Detik)"
      ],
      "metadata": {
        "id": "tsVc6JuZaKJJ"
      }
    },
    {
      "cell_type": "code",
      "source": [
        "print(\"Ahmad Fajril Falah\")\n",
        "print(\"Konversi Waktu (Detik ke Jam:Menit:Detik)\")\n",
        "total_detik = int(input(\"Masukkan jumlah detik: \"))\n",
        "jam = total_detik // 3600\n",
        "sisa = total_detik % 3600\n",
        "menit = sisa // 60\n",
        "detik = sisa % 60\n",
        "print(jam, \"jam,\", menit, \"menit,\", detik, \"detik\")\n"
      ],
      "metadata": {
        "colab": {
          "base_uri": "https://localhost:8080/"
        },
        "id": "Qhw-6npeaQZF",
        "outputId": "cc62f734-a050-4267-9663-5f391ef5f0b0"
      },
      "execution_count": null,
      "outputs": [
        {
          "output_type": "stream",
          "name": "stdout",
          "text": [
            "Ahmad Fajril Falah\n",
            "Konversi Waktu (Detik ke Jam:Menit:Detik)\n",
            "Masukkan jumlah detik: 3600\n",
            "1 jam, 0 menit, 0 detik\n"
          ]
        }
      ]
    },
    {
      "cell_type": "markdown",
      "source": [
        "Penugasan 5. Rata-rata Nilai Tiga Mata Kuliah"
      ],
      "metadata": {
        "id": "yTbyRdOKgom8"
      }
    },
    {
      "cell_type": "code",
      "source": [
        "print(\"Ahmad Fajril Falah\")\n",
        "print(\"Menghitung Rata-rata Nilai Tiga Mata Kuliah\")\n",
        "n1 = int(input(\"Masukkan nilai pertama: \"))\n",
        "n2 = int(input(\"Masukkan nilai kedua: \"))\n",
        "n3 = int(input(\"Masukkan nilai ketiga: \"))\n",
        "avg = (n1 + n2 + n3) / 3\n",
        "if avg >= 60:\n",
        "    status = \"Lulus\"\n",
        "else:\n",
        "    status = \"Tidak Lulus\"\n",
        "print(\"Rata-rata =\", avg)\n",
        "print(\"Keterangan =\", status)"
      ],
      "metadata": {
        "colab": {
          "base_uri": "https://localhost:8080/"
        },
        "id": "T4pwXHhdgw5T",
        "outputId": "1473ec00-c78a-4cca-933c-58b82b03d936"
      },
      "execution_count": null,
      "outputs": [
        {
          "output_type": "stream",
          "name": "stdout",
          "text": [
            "Ahmad Fajril Falah\n",
            "Menghitung Rata-rata Nilai Tiga Mata Kuliah\n",
            "Masukkan nilai pertama: 60\n",
            "Masukkan nilai kedua: 60\n",
            "Masukkan nilai ketiga: 60\n",
            "Rata-rata = 60.0\n",
            "Keterangan = Lulus\n"
          ]
        }
      ]
    },
    {
      "cell_type": "markdown",
      "source": [
        "Penugasan 6.\tMenghitung Diskon Belanja"
      ],
      "metadata": {
        "id": "dmwA0sxImzvv"
      }
    },
    {
      "cell_type": "code",
      "source": [
        "print(\"Ahmad Fajril Falah\")\n",
        "print(\"Program Menghitung Total Bayar Setelah Diskon\")\n",
        "belanja = int(input(\"Masukkan total belanja: \"))\n",
        "if belanja >= 500000:\n",
        "    diskon = belanja * 0.2\n",
        "elif belanja >= 250000:\n",
        "    diskon = belanja * 0.1\n",
        "else:\n",
        "    diskon = 0\n",
        "total = belanja - diskon\n",
        "print(\"Total belanja =\", belanja)\n",
        "print(\"Diskon =\", diskon)\n",
        "print(\"Total bayar =\", total)\n"
      ],
      "metadata": {
        "colab": {
          "base_uri": "https://localhost:8080/"
        },
        "id": "r92qZltEm3VY",
        "outputId": "41da6755-48e5-41f7-b83c-ba95871c0c58"
      },
      "execution_count": null,
      "outputs": [
        {
          "output_type": "stream",
          "name": "stdout",
          "text": [
            "Ahmad Fajril Falah\n",
            "Program Menghitung Total Bayar Setelah Diskon\n",
            "Masukkan total belanja: 250000\n",
            "Total belanja = 250000\n",
            "Diskon = 25000.0\n",
            "Total bayar = 225000.0\n"
          ]
        }
      ]
    },
    {
      "cell_type": "markdown",
      "source": [
        "***TERIMA KASIH...❤***"
      ],
      "metadata": {
        "id": "P78qpA1bUVJ_"
      }
    }
  ]
}